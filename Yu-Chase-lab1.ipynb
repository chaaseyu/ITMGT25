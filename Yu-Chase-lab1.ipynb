{
 "cells": [
  {
   "cell_type": "markdown",
   "metadata": {},
   "source": [
    "195437\n",
    "Yu\n",
    "2 BS ME\n",
    "https://github.com/chaaseyu/ITMGT25"
   ]
  },
  {
   "cell_type": "code",
   "execution_count": 21,
   "metadata": {},
   "outputs": [
    {
     "name": "stdout",
     "output_type": "stream",
     "text": [
      "Enter the amount in US Dollars:20\n",
      "20 US dollar(s) = 1000 Philippine Pesos.\n"
     ]
    }
   ],
   "source": [
    "def dollars_to_pesos(x):\n",
    "    return x*50\n",
    "usd = int(input(\"Enter the amount in US Dollars:\"))\n",
    "php = dollars_to_pesos(usd)\n",
    "print (usd, \"US dollar(s) =\", php, \"Philippine Pesos.\")"
   ]
  },
  {
   "cell_type": "code",
   "execution_count": 22,
   "metadata": {},
   "outputs": [
    {
     "name": "stdout",
     "output_type": "stream",
     "text": [
      "128\n",
      "8\n",
      "136\n",
      "120\n",
      "1024\n",
      "16\n",
      "0\n"
     ]
    }
   ],
   "source": [
    "def sum(x,y):\n",
    "    return x+y\n",
    "def subtract(x,y):\n",
    "    return x-y\n",
    "def multiply(x,y):\n",
    "    return x*y\n",
    "def divide(x,y):\n",
    "    return x//y\n",
    "def divideagain(x,y):\n",
    "    return x%y\n",
    "a=int(input())\n",
    "b=int(input())\n",
    "print(sum(a,b))\n",
    "print(subtract(a,b))\n",
    "print(multiply(a,b))\n",
    "print(divide(a,b))\n",
    "print(divideagain(a,b))"
   ]
  },
  {
   "cell_type": "code",
   "execution_count": 23,
   "metadata": {},
   "outputs": [
    {
     "name": "stdout",
     "output_type": "stream",
     "text": [
      "Enter kg: 70\n",
      "Enter cm: 170\n",
      "BMI:  24.221453287197235\n"
     ]
    }
   ],
   "source": [
    "def compute_bmi (kg,m):\n",
    "    return kg/m**2\n",
    "def convert_cm_to_m (cm):\n",
    "    return cm/100\n",
    "\n",
    "\n",
    "kg = int(input(\"Enter kg: \"))\n",
    "cm = int(input(\"Enter cm: \"))\n",
    "m = convert_cm_to_m(cm)\n",
    "print (\"BMI: \",compute_bmi(kg,m))"
   ]
  }
 ],
 "metadata": {
  "kernelspec": {
   "display_name": "Python 3",
   "language": "python",
   "name": "python3"
  },
  "language_info": {
   "codemirror_mode": {
    "name": "ipython",
    "version": 3
   },
   "file_extension": ".py",
   "mimetype": "text/x-python",
   "name": "python",
   "nbconvert_exporter": "python",
   "pygments_lexer": "ipython3",
   "version": "3.7.6"
  }
 },
 "nbformat": 4,
 "nbformat_minor": 4
}
