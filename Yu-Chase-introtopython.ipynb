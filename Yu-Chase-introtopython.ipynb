{
 "cells": [
  {
   "cell_type": "markdown",
   "metadata": {},
   "source": [
    "195437\n",
    "Yu\n",
    "2 BS ME \n",
    "https://github.com/chaaseyu/ITMGT25"
   ]
  },
  {
   "cell_type": "code",
   "execution_count": 1,
   "metadata": {
    "scrolled": true
   },
   "outputs": [],
   "source": [
    "def three_number_average(x,y,z):\n",
    "    average=(x+y+z)/3\n",
    "    return average"
   ]
  },
  {
   "cell_type": "code",
   "execution_count": null,
   "metadata": {},
   "outputs": [],
   "source": [
    "firstnumber=int(input(\"Enter first number:\"))\n",
    "secondnumber=int(input(\"Enter second number:\"))\n",
    "thirdnumber=int(input(\"Enter third number:\"))\n",
    "average=three_number_average(firstnumber,secondnumber,thirdnumber)\n",
    "print(\"The average is\", average)"
   ]
  }
 ],
 "metadata": {
  "kernelspec": {
   "display_name": "Python 3",
   "language": "python",
   "name": "python3"
  },
  "language_info": {
   "codemirror_mode": {
    "name": "ipython",
    "version": 3
   },
   "file_extension": ".py",
   "mimetype": "text/x-python",
   "name": "python",
   "nbconvert_exporter": "python",
   "pygments_lexer": "ipython3",
   "version": "3.7.6"
  }
 },
 "nbformat": 4,
 "nbformat_minor": 4
}
