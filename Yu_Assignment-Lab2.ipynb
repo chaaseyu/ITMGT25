{
 "cells": [
  {
   "cell_type": "markdown",
   "metadata": {},
   "source": [
    "# Quiz 1\n",
    "# Name: "
   ]
  },
  {
   "cell_type": "markdown",
   "metadata": {},
   "source": [
    "# 1A\n",
    "# Rectangle\n",
    "## 2 points\n",
    "\n",
    "(int, int) -> None\n",
    "    \n",
    "This function prints a solid rectangle composed of asterisks (\\\"\\*\\\").  \n",
    "This rectangle should be of the specified width and the specified height.  \n",
    "This function does not return any value; it simply prints the rectangle string.  "
   ]
  },
  {
   "cell_type": "code",
   "execution_count": 63,
   "metadata": {},
   "outputs": [
    {
     "name": "stdout",
     "output_type": "stream",
     "text": [
      "************\n",
      "************\n",
      "************\n",
      "************\n",
      "************\n",
      "************\n",
      "************\n",
      "************\n",
      "************\n",
      "************\n",
      "************\n",
      "************\n",
      "************\n",
      "************\n",
      "************\n",
      "\n",
      "*****\n",
      "*****\n",
      "*****\n",
      "*****\n",
      "*****\n",
      "\n",
      "*********\n",
      "*********\n",
      "*********\n",
      "\n"
     ]
    }
   ],
   "source": [
    "# GRADED FUNCTION\n",
    "def print_rectangle(width, height):\n",
    "    \n",
    "    rectangle_string = \"\"\n",
    "    \n",
    "    for n in range(height):\n",
    "        for n in range(width):\n",
    "            print(\"*\",end=\"\")\n",
    "        print()\n",
    "    \n",
    "    print(rectangle_string)\n",
    "\n",
    "print_rectangle(12,15)\n",
    "print_rectangle(5,5)\n",
    "print_rectangle(9,3)"
   ]
  },
  {
   "cell_type": "markdown",
   "metadata": {},
   "source": [
    "# 1B\n",
    "# Hollow Rectangle\n",
    "## 3 points\n",
    "\n",
    "(int, int) -> None\n",
    "    \n",
    "This function prints a hollow rectangle composed of asterisks \\(\\*).  \n",
    "The borders of this rectangle are composed of asterisks (\\\"\\*\\\").  \n",
    "The insides of this rectangle are composed of spaces (\" \").  \n",
    "This rectangle should be of the specified width and the specified height.  \n",
    "This function does not return any value; it simply prints the rectangle string.  "
   ]
  },
  {
   "cell_type": "code",
   "execution_count": 62,
   "metadata": {},
   "outputs": [
    {
     "name": "stdout",
     "output_type": "stream",
     "text": [
      "***************\n",
      "*             *\n",
      "*             *\n",
      "*             *\n",
      "***************\n",
      "\n",
      "********\n",
      "*      *\n",
      "*      *\n",
      "*      *\n",
      "*      *\n",
      "*      *\n",
      "*      *\n",
      "*      *\n",
      "*      *\n",
      "********\n",
      "\n"
     ]
    }
   ],
   "source": [
    "# GRADED FUNCTION\n",
    "def print_hollow_rectangle(width, height):\n",
    "    \n",
    "    rectangle_string = \"\"\n",
    "\n",
    "    for x in range(height):\n",
    "        if x == 0 or x == height-1:\n",
    "            for x in range(width):\n",
    "                print(\"*\",end=\"\")\n",
    "        else:            \n",
    "            for x in range(width):\n",
    "                if x == 0 or x == width-1:\n",
    "                    print(\"*\",end=\"\")\n",
    "                else:\n",
    "                    print(\" \",end=\"\")\n",
    "        print()\n",
    "\n",
    "    print(rectangle_string)\n",
    "    \n",
    "print_hollow_rectangle(15,5)\n",
    "print_hollow_rectangle(8,10)"
   ]
  },
  {
   "cell_type": "markdown",
   "metadata": {},
   "source": [
    "# 2\n",
    "# Caesar Cipher\n",
    "## 4 points\n",
    "(str, int) -> str\n",
    "    \n",
    "This function encrypts a message using the Caesar cipher method.  \n",
    "The Caesar cipher \"shifts\" each letter in a message to the right by a specified number.\n",
    "\n",
    "For example:\n",
    "\n",
    "encrypt('ABC', 2) -> 'CDE'\n",
    "\n",
    "In terms of ordinal positions in the alphabet, 'A' is 0, 'B' is 1, and 'C' is 2.  \n",
    "Add the specified number to each of these values to receive 0 + 2 = 2, 2 + 2 = 4, and 3 + 2 = 5.  \n",
    "Converting back to letters from numbers: 2 is 'C', 3 is 'D', and 4 is 'E'.\n",
    "\n",
    "Another example:\n",
    "\n",
    "encrypt('XYZ', 2) -> 'ZAB'\n",
    "\n",
    "In terms of ordinal positions in the alphabet, 'X' is 23, 'Y' is 24, and 'Z' is 25.  \n",
    "Add the specified number to each to receive 25, 26, and 27 respectively.  \n",
    "26 and 27 no longer fall in the range of alphabet numbers, so we need to \"wrap\" them around.  \n",
    "  Subtract 26 from 26 and 27 to receive 0 and 1.\n",
    "The final list of numbers is 25, 0, and 1.  \n",
    "Converting back to letters from numbers: 25 is 'Z', 0 is 'A', and 1 is 'B'.  \n",
    "\n",
    "You may find these functions helpful:  \n",
    "chr() converts a Unicode integer value to a character (i.e. a letter).  \n",
    "  e.g. chr(65) -> 'A'  \n",
    "ord() converts a character (i.e. a letter) to its Unicode integer value.  \n",
    "  e.g. ord('A') -> 65\n",
    "\n",
    "For your convenience:\n",
    "1. The message is composed entirely of capital letters. There will be no spaces or lower case letters.\n",
    "2. The shift number will be between 0 and 25.\n",
    "3. The alphabet is mapped such that A is 0 and Z is 25."
   ]
  },
  {
   "cell_type": "code",
   "execution_count": 61,
   "metadata": {},
   "outputs": [
    {
     "name": "stdout",
     "output_type": "stream",
     "text": [
      "AFCSB\n",
      "MXP\n"
     ]
    }
   ],
   "source": [
    "def caesar_encrypt(message, shift):\n",
    "    \n",
    "    output = ''\n",
    "    message = message.upper()\n",
    "\n",
    "    for x in message:\n",
    "        index = ( (ord(x)-65+ shift) % (91-65) ) + 65\n",
    "        code = chr(index)\n",
    "        print(code,end=\"\")\n",
    "    \n",
    "    return output\n",
    "\n",
    "print(caesar_encrypt(\"zebra\",1))\n",
    "print(caesar_encrypt(\"dog\",9))"
   ]
  },
  {
   "cell_type": "markdown",
   "metadata": {},
   "source": [
    "# 3\n",
    "# Vigenere Cipher\n",
    "## 4 points\n",
    "\n",
    "(str, str) -> str\n",
    "    \n",
    "This function encrypts a message using the Vigenere cipher method.\n",
    "\n",
    "The Vigenere cipher is an extension of the Caesar cipher method.\n",
    "Instead of using a uniform number, the Vigenere cipher uses a keyword to shift letters.\n",
    "\n",
    "Example:\n",
    "\n",
    "vigenere_encrypt('ABC', 'KEY') -> 'KFA'\n",
    "\n",
    "First, convert the message and the key to numbers.  \n",
    "'ABC' -> [0, 1, 2]  \n",
    "'KEY' -> [10, 4, 24]  \n",
    "Second, add the respective numbers to each other.  \n",
    "[0, 1, 2] + [10, 4, 24] = [10, 5, 26]  \n",
    "Third, correct the numbers that do not fall within 0-25 by subtracting 26 until they fall within 0-25.  \n",
    "[10, 5, 26] -> [10, 5, 0]  \n",
    "Fourth, convert the numbers back to letters.  \n",
    "[10, 5, 0] -> 'KFA'  \n",
    "\n",
    "For your convenience:\n",
    "1. You are highly encouraged to use your Caesar cipher function from Item 2 in this item.\n",
    "2. You may assume that the key is the same length as the message.\n",
    "\n",
    "Bonus points:\n",
    "1. +2 (with a perfect base function) (all or nothing) if you adjust for the case that the key is \n",
    "  shorter than the message. (e.g. \"MEAMORE\", \"UEDA\" -> \"MEAMORE\", \"UEDAUED\")"
   ]
  },
  {
   "cell_type": "code",
   "execution_count": 6,
   "metadata": {},
   "outputs": [
    {
     "name": "stdout",
     "output_type": "stream",
     "text": [
      "KFA\n",
      "GIDMIVH\n"
     ]
    }
   ],
   "source": [
    "# GRADED FUNCTION\n",
    "def vigenere_encrypt(message, keyword):\n",
    "    \n",
    "    output = ''\n",
    "    message = message.upper()\n",
    "    msgList = []\n",
    "    keyList = []\n",
    "    i = 0\n",
    "    \n",
    "    for x in message:\n",
    "        index = ord(x)-65\n",
    "        msgList.append(index)\n",
    "    \n",
    "    for x in keyword:\n",
    "        index = ord(x)-65\n",
    "        keyList.append(index)\n",
    "\n",
    "    while len(keyList) < len(msgList):\n",
    "        keyList.append(keyList[i])\n",
    "        i += 1\n",
    "    \n",
    "    zipList = zip(msgList,keyList)\n",
    "    unzipList = list(zipList)\n",
    "    indexList = []\n",
    "    \n",
    "    for x in unzipList:\n",
    "        index = sum(x) % 26\n",
    "        indexList.append(index)\n",
    "        \n",
    "    for x in indexList:\n",
    "        final = chr(x+65)\n",
    "        print(final,end=\"\")\n",
    "        \n",
    "    return output\n",
    "\n",
    "print(vigenere_encrypt(\"ABC\",\"KEY\"))\n",
    "print(vigenere_encrypt(\"MEAMORE\",\"UEDA\"))"
   ]
  },
  {
   "cell_type": "markdown",
   "metadata": {},
   "source": [
    "# 4\n",
    "# Contact Tracing\n",
    "## 7 points\n",
    "\n",
    "This function simulates tracing an infected person and marking people they come into contact with.  \n",
    "\n",
    "### Rules of the Game\n",
    "1. The simulation starts with a single infected person (infected_person).  \n",
    "2. The people in this game \"move\". These movements are represented by strings.\n",
    "3. Each person that an infected person comes into contact with will become infected in the next round.\n",
    "\n",
    "\n",
    "### Conceptual demonstration\n",
    "Initial infected = C  \n",
    "\n",
    "Movements:  \n",
    "'JFHGIABECD'  \n",
    "'GAFJBCDIHE'  \n",
    "'FCGAEBIJDH'  \n",
    "\n",
    "\n",
    "1. In the first round, C is next to E and D. E and D will thus be infected next round.\n",
    "2. In the second round:  \n",
    "    The list of infected: CDE   \n",
    "    C is adjacent to B and D  \n",
    "    D is adjacent to C and I  \n",
    "    E is adjacent to H  \n",
    "    B, I, and H will thus be new infected next round.\n",
    "3. In the third round:  \n",
    "    The list of infected: CDEBIH  \n",
    "    C is adjacent to F and G  \n",
    "    D is adjacent to J and H  \n",
    "    E is adjacent to A and B  \n",
    "    B is adjacent to E and I  \n",
    "    I is adjacent to B and J  \n",
    "    H is adjacent to D  \n",
    "    F, G, J, and A will thus be new infected next round, but there is no next round, so the list of infected for the next round will count as our \"final\" list of infected.\n",
    "4. The final list of infected: CDEBIHFGJA. This is basically every single element. Note that in Python, the final list of infected will look like this:  \n",
    "['C', 'D', 'E', 'B', 'I', 'H', 'F', 'G', 'J', 'A']\n",
    "    \n",
    "### Required\n",
    "Write a function that takes an initial infected person as its first parameter and a list of movements as its second parameter. The function should **return** the final list of infected.  \n",
    "\n",
    "Please note the following:\n",
    "1. Your solution must work for an arbitrary number of movements of an arbitrary number of elements. This means that your code must still work if we change the initial infected person or the movement list.\n",
    "2. There will be no duplicate elements.\n",
    "3. There will only ever be one initial infected person.\n",
    "4. Please **comment** your code. It will help us understand your logic, and it will help you get partial points on this item.\n"
   ]
  },
  {
   "cell_type": "code",
   "execution_count": 56,
   "metadata": {},
   "outputs": [
    {
     "ename": "ValueError",
     "evalue": "substring not found",
     "output_type": "error",
     "traceback": [
      "\u001b[1;31m---------------------------------------------------------------------------\u001b[0m",
      "\u001b[1;31mValueError\u001b[0m                                Traceback (most recent call last)",
      "\u001b[1;32m<ipython-input-56-238a209ae0bd>\u001b[0m in \u001b[0;36m<module>\u001b[1;34m\u001b[0m\n\u001b[0;32m     23\u001b[0m             \u001b[0mprint\u001b[0m\u001b[1;33m(\u001b[0m\u001b[0mpeople\u001b[0m\u001b[1;33m[\u001b[0m\u001b[0minitial_infected_person\u001b[0m\u001b[1;33m.\u001b[0m\u001b[0mindex\u001b[0m\u001b[1;33m(\u001b[0m\u001b[0mx\u001b[0m\u001b[1;33m)\u001b[0m\u001b[1;33m+\u001b[0m\u001b[1;36m1\u001b[0m\u001b[1;33m]\u001b[0m\u001b[1;33m)\u001b[0m\u001b[1;33m\u001b[0m\u001b[1;33m\u001b[0m\u001b[0m\n\u001b[0;32m     24\u001b[0m \u001b[1;33m\u001b[0m\u001b[0m\n\u001b[1;32m---> 25\u001b[1;33m \u001b[0mtrace\u001b[0m\u001b[1;33m(\u001b[0m\u001b[0msample_initial_infected_person\u001b[0m\u001b[1;33m,\u001b[0m \u001b[0msample_movement_list\u001b[0m\u001b[1;33m)\u001b[0m\u001b[1;33m\u001b[0m\u001b[1;33m\u001b[0m\u001b[0m\n\u001b[0m",
      "\u001b[1;32m<ipython-input-56-238a209ae0bd>\u001b[0m in \u001b[0;36mtrace\u001b[1;34m(initial_infected_person, movement_list)\u001b[0m\n\u001b[0;32m     21\u001b[0m         \u001b[0mpeople\u001b[0m \u001b[1;33m=\u001b[0m \u001b[0mlist\u001b[0m\u001b[1;33m(\u001b[0m\u001b[0mmovement_list\u001b[0m\u001b[1;33m[\u001b[0m\u001b[0mmovement\u001b[0m\u001b[1;33m]\u001b[0m\u001b[1;33m)\u001b[0m\u001b[1;33m\u001b[0m\u001b[1;33m\u001b[0m\u001b[0m\n\u001b[0;32m     22\u001b[0m         \u001b[1;32mfor\u001b[0m \u001b[0mx\u001b[0m \u001b[1;32min\u001b[0m \u001b[0mpeople\u001b[0m\u001b[1;33m:\u001b[0m\u001b[1;33m\u001b[0m\u001b[1;33m\u001b[0m\u001b[0m\n\u001b[1;32m---> 23\u001b[1;33m             \u001b[0mprint\u001b[0m\u001b[1;33m(\u001b[0m\u001b[0mpeople\u001b[0m\u001b[1;33m[\u001b[0m\u001b[0minitial_infected_person\u001b[0m\u001b[1;33m.\u001b[0m\u001b[0mindex\u001b[0m\u001b[1;33m(\u001b[0m\u001b[0mx\u001b[0m\u001b[1;33m)\u001b[0m\u001b[1;33m+\u001b[0m\u001b[1;36m1\u001b[0m\u001b[1;33m]\u001b[0m\u001b[1;33m)\u001b[0m\u001b[1;33m\u001b[0m\u001b[1;33m\u001b[0m\u001b[0m\n\u001b[0m\u001b[0;32m     24\u001b[0m \u001b[1;33m\u001b[0m\u001b[0m\n\u001b[0;32m     25\u001b[0m \u001b[0mtrace\u001b[0m\u001b[1;33m(\u001b[0m\u001b[0msample_initial_infected_person\u001b[0m\u001b[1;33m,\u001b[0m \u001b[0msample_movement_list\u001b[0m\u001b[1;33m)\u001b[0m\u001b[1;33m\u001b[0m\u001b[1;33m\u001b[0m\u001b[0m\n",
      "\u001b[1;31mValueError\u001b[0m: substring not found"
     ]
    }
   ],
   "source": [
    "# SETUP. DO NOT EDIT THESE LINES.\n",
    "sample_initial_infected_person = 'C'\n",
    "sample_movement_list = ['ihpSPvorENDadfcyjnqlmgHWxTCKGIUkeOZzMJXYsuAwVbLRQBFt',\n",
    "                         'qepTuMENGwDztARCImQhiJXfnWbcaVvyrLsZjdYKSFBHPoxglOkU']\n",
    "# END OF SETUP.\n",
    "\n",
    "# GRADED FUNCTION\n",
    "\n",
    "    \n",
    "#this problem was too complicated for me...\n",
    "\n",
    "def trace(initial_infected_person, sample_movement_list):\n",
    "    final_list_of_infected = [] # im supposed to append all the infected here at the end of the function\n",
    "    current_infected = [initial_infected_person] # over the course of the loops, im supposed to append the infected here\n",
    "    for movement in range(0,len(sample_movement_list)): #this should be the number of rounds(movements)\n",
    "        people = list(sample_movement_list[movement]) #separate a movement string to a list of characters\n",
    "        current_infected.append(people[movement.index(x)+1]) \n",
    "        current_infected.append(people[movement.index(x)-1]) #there should be an exception if the infected character is the first or last character in the movement\n",
    "#then, with the updated current_infected, this should carry over in the next loop\n",
    "#if ever duplicate characters are infected, im supposed to convert the list into a set\n",
    "#append the final infected to the final list, then print\n",
    "        \n",
    "trace(sample_initial_infected_person, sample_movement_list)"
   ]
  }
 ],
 "metadata": {
  "kernelspec": {
   "display_name": "Python 3",
   "language": "python",
   "name": "python3"
  },
  "language_info": {
   "codemirror_mode": {
    "name": "ipython",
    "version": 3
   },
   "file_extension": ".py",
   "mimetype": "text/x-python",
   "name": "python",
   "nbconvert_exporter": "python",
   "pygments_lexer": "ipython3",
   "version": "3.7.6"
  }
 },
 "nbformat": 4,
 "nbformat_minor": 4
}
