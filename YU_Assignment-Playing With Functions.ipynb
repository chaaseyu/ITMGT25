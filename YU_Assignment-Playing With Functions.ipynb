{
 "cells": [
  {
   "cell_type": "code",
   "execution_count": 1,
   "metadata": {},
   "outputs": [
    {
     "name": "stdout",
     "output_type": "stream",
     "text": [
      "113.10240005092949\n"
     ]
    }
   ],
   "source": [
    "#circumference of circle with radius 6 is 37.7\n",
    "#area of circle with radius 6 is 113.1\n",
    "def circlearea(circumference):\n",
    "    PI=3.1416\n",
    "    r=circumference/(2*PI)\n",
    "    return PI*r**2\n",
    "print(circlearea(37.7))"
   ]
  },
  {
   "cell_type": "code",
   "execution_count": 17,
   "metadata": {},
   "outputs": [
    {
     "name": "stdout",
     "output_type": "stream",
     "text": [
      "olleH"
     ]
    }
   ],
   "source": [
    "def reverseString(x):\n",
    "    length = len(x)\n",
    "    for a in range (0,length):\n",
    "        print(x[-(a+1)], end=\"\")\n",
    "        \n",
    "reverseString(\"Hello\")"
   ]
  },
  {
   "cell_type": "code",
   "execution_count": 3,
   "metadata": {},
   "outputs": [
    {
     "name": "stdout",
     "output_type": "stream",
     "text": [
      "15\n"
     ]
    }
   ],
   "source": [
    "def backAddition(x):\n",
    "    upper = int(x)\n",
    "    total = 0\n",
    "    for i in range(0, upper + 1):\n",
    "        total = (total + i)\n",
    "        i += 1\n",
    "    return total\n",
    "print(backAddition(5))"
   ]
  },
  {
   "cell_type": "code",
   "execution_count": 4,
   "metadata": {},
   "outputs": [
    {
     "name": "stdout",
     "output_type": "stream",
     "text": [
      "328250\n"
     ]
    }
   ],
   "source": [
    "total = 0\n",
    "for i in range(0, 100 + 1):\n",
    "    total = (total + i)\n",
    "    i += 1\n",
    "totaltwo = 0\n",
    "for j in range(0,100+1):\n",
    "    totaltwo = (totaltwo + j*j)\n",
    "    j += 1 \n",
    "    \n",
    "print (totaltwo-total*2)"
   ]
  },
  {
   "cell_type": "code",
   "execution_count": 19,
   "metadata": {},
   "outputs": [
    {
     "name": "stdout",
     "output_type": "stream",
     "text": [
      "1\n",
      "0\n",
      "0\n",
      "1\n",
      "0\n"
     ]
    }
   ],
   "source": [
    "def denomination(change):\n",
    "    \n",
    "    peso=change//100\n",
    "    change=change%100\n",
    "    quarter=change//25\n",
    "    change=change%25\n",
    "    dime=change//10\n",
    "    change=change%10\n",
    "    penny=change//5\n",
    "    cent=change%5\n",
    "    \n",
    "    print(peso)\n",
    "    print(quarter)\n",
    "    print(dime)\n",
    "    print(penny)   \n",
    "    print(cent)\n",
    "    \n",
    "denomination(105)"
   ]
  },
  {
   "cell_type": "code",
   "execution_count": null,
   "metadata": {},
   "outputs": [],
   "source": []
  }
 ],
 "metadata": {
  "kernelspec": {
   "display_name": "Python 3",
   "language": "python",
   "name": "python3"
  },
  "language_info": {
   "codemirror_mode": {
    "name": "ipython",
    "version": 3
   },
   "file_extension": ".py",
   "mimetype": "text/x-python",
   "name": "python",
   "nbconvert_exporter": "python",
   "pygments_lexer": "ipython3",
   "version": "3.7.6"
  }
 },
 "nbformat": 4,
 "nbformat_minor": 4
}
